{
 "cells": [
  {
   "cell_type": "code",
   "execution_count": 4,
   "metadata": {
    "collapsed": true
   },
   "outputs": [],
   "source": [
    "import pandas as pd\n",
    "from sklearn import datasets\n",
    "from sklearn.naive_bayes import GaussianNB\n",
    "\n",
    "# [PART A.] Membaca dataset standar iris dan dataset play-tennis (dataset eksternal dalam format csv). \n",
    "iris = datasets.load_iris() # membaca dataset standar iris\n",
    "playTennis = pd.read_csv('play-tennis.csv') # membaca dataset play-tennis.csv dengan panda"
   ]
  },
  {
   "cell_type": "code",
   "execution_count": 57,
   "metadata": {},
   "outputs": [
    {
     "name": "stdout",
     "output_type": "stream",
     "text": [
      "Probability kelas-0 : 5.55872218667e-103\n",
      "Probability kelas-1 : 0.999958552384\n",
      "Probability kelas-2 : 4.14476159303e-05\n",
      "Masuk kelas 1\n"
     ]
    }
   ],
   "source": [
    "# [PART B.1] \n",
    "# Melakukan Pembelajaran Naive Bayes \n",
    "# Dataset : iris\n",
    "# Skema : full-training\n",
    "\n",
    "gnb = GaussianNB()\n",
    "gnb.fit(iris.data, iris.target)\n",
    "\n",
    "# Show the model\n",
    "test_arr = [[5,1,5,1]]\n",
    "arr = gnb.predict(test_arr)\n",
    "res = gnb.predict_proba(test_arr)[0]\n",
    "print \"Probability kelas-0 :\", res[0]\n",
    "print \"Probability kelas-1 :\", res[1]\n",
    "print \"Probability kelas-2 :\", res[2]\n",
    "print \"Masuk kelas\", arr[0]"
   ]
  }
 ],
 "metadata": {
  "kernelspec": {
   "display_name": "Python 2",
   "language": "python",
   "name": "python2"
  },
  "language_info": {
   "codemirror_mode": {
    "name": "ipython",
    "version": 2
   },
   "file_extension": ".py",
   "mimetype": "text/x-python",
   "name": "python",
   "nbconvert_exporter": "python",
   "pygments_lexer": "ipython2",
   "version": "2.7.14"
  }
 },
 "nbformat": 4,
 "nbformat_minor": 2
}
