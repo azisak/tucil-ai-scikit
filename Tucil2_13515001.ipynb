{
 "cells": [
  {
   "cell_type": "code",
   "execution_count": 1,
   "metadata": {
    "collapsed": true
   },
   "outputs": [],
   "source": [
    "import pandas as pd\n",
    "import graphviz\n",
    "from sklearn import datasets\n",
    "from sklearn.naive_bayes import GaussianNB\n",
    "from sklearn import tree\n",
    "from sklearn.metrics import confusion_matrix\n",
    "from sklearn.model_selection import train_test_split\n",
    "\n",
    "\n",
    "# [PART A.] Membaca dataset standar iris dan dataset play-tennis (dataset eksternal dalam format csv). \n",
    "iris = datasets.load_iris() # membaca dataset standar iris\n",
    "playTennis = pd.read_csv('play-tennis.csv') # membaca dataset play-tennis.csv dengan panda"
   ]
  },
  {
   "cell_type": "code",
   "execution_count": 2,
   "metadata": {},
   "outputs": [
    {
     "name": "stdout",
     "output_type": "stream",
     "text": [
      "GaussianNB(priors=None)\n"
     ]
    }
   ],
   "source": [
    "# [PART B.1] \n",
    "# Melakukan Pembelajaran Naive Bayes \n",
    "# Dataset : iris\n",
    "# Skema : full-training\n",
    "\n",
    "gnb = GaussianNB()\n",
    "gnb = gnb.fit(iris.data, iris.target)\n",
    "\n",
    "print gnb"
   ]
  },
  {
   "cell_type": "code",
   "execution_count": 8,
   "metadata": {},
   "outputs": [
    {
     "name": "stdout",
     "output_type": "stream",
     "text": [
      "DecisionTreeClassifier(class_weight=None, criterion='gini', max_depth=None,\n",
      "            max_features=None, max_leaf_nodes=None,\n",
      "            min_impurity_decrease=0.0, min_impurity_split=None,\n",
      "            min_samples_leaf=1, min_samples_split=2,\n",
      "            min_weight_fraction_leaf=0.0, presort=False, random_state=None,\n",
      "            splitter='best')\n"
     ]
    }
   ],
   "source": [
    "# [PART B.2]\n",
    "# Melakukan Pembelajaran Decision Tree ID3\n",
    "# Dataset : iris\n",
    "# Skema : full-training\n",
    "\n",
    "tree_clf = tree.DecisionTreeClassifier()\n",
    "tree_clf = tree_clf.fit(iris.data, iris.target)\n",
    "print tree_clf\n",
    "#dot_data = tree.export_graphviz(tree_clf, out_file=None, \n",
    "#                         feature_names=iris.feature_names,  \n",
    "#                         class_names=iris.target_names,  \n",
    "#                         filled=True, rounded=True,  \n",
    "#                         special_characters=True)  \n",
    "#graph = graphviz.Source(dot_data) \n",
    "#graph"
   ]
  },
  {
   "cell_type": "code",
   "execution_count": 4,
   "metadata": {},
   "outputs": [
    {
     "name": "stdout",
     "output_type": "stream",
     "text": [
      "Y_Predict : [1 0 1 0 0 2 1 0 1 0 1 2 2 2 2]\n",
      "   Y_True : [1 0 1 0 0 2 1 0 1 0 1 2 2 2 2]\n",
      "Confusion Matrix : \n"
     ]
    },
    {
     "data": {
      "text/plain": [
       "array([[5, 0, 0],\n",
       "       [0, 5, 0],\n",
       "       [0, 0, 5]])"
      ]
     },
     "execution_count": 4,
     "metadata": {},
     "output_type": "execute_result"
    }
   ],
   "source": [
    "# [PART C.1]\n",
    "# Melakukan Pembelajaran Naive Bayes\n",
    "# Dataset : iris\n",
    "# Skema : split train 90% dan test 10%\n",
    "\n",
    "train_data, test_data, train_target, test_target = train_test_split(iris.data, iris.target, train_size=0.9,test_size=0.1)\n",
    "gnb = GaussianNB()\n",
    "gnb = gnb.fit(train_data,train_target)\n",
    "y_predict = gnb.predict(test_data)\n",
    "y_true = test_target\n",
    "\n",
    "print \"Y_Predict :\",y_predict\n",
    "print \"   Y_True :\",y_true\n",
    "print \"Confusion Matrix : \"\n",
    "confusion_matrix(y_true, y_predict)"
   ]
  },
  {
   "cell_type": "code",
   "execution_count": 5,
   "metadata": {},
   "outputs": [
    {
     "name": "stdout",
     "output_type": "stream",
     "text": [
      "Y_Predict : [2 1 2 2 0 1 0 0 2 0 2 0 2 0 0]\n",
      "   Y_True : [2 1 2 2 0 1 0 0 2 0 2 0 2 0 0]\n",
      "Confusion Matrix : \n"
     ]
    },
    {
     "data": {
      "text/plain": [
       "array([[7, 0, 0],\n",
       "       [0, 2, 0],\n",
       "       [0, 0, 6]])"
      ]
     },
     "execution_count": 5,
     "metadata": {},
     "output_type": "execute_result"
    }
   ],
   "source": [
    "# [PART C.2]\n",
    "# Melakukan Pembelajaran DecisionTree ID3\n",
    "# Dataset : iris\n",
    "# Skema : split train 90% dan test 10%\n",
    "\n",
    "train_data, test_data, train_target, test_target = train_test_split(iris.data, iris.target, train_size=0.9,test_size=0.1)\n",
    "tree_clf = tree.DecisionTreeClassifier()\n",
    "tree_clf = tree_clf.fit(train_data, train_target)\n",
    "y_predict = tree_clf.predict(test_data)\n",
    "y_true = test_target\n",
    "\n",
    "print \"Y_Predict :\",y_predict\n",
    "print \"   Y_True :\",y_true\n",
    "print \"Confusion Matrix : \"\n",
    "confusion_matrix(y_true, y_predict)"
   ]
  },
  {
   "cell_type": "code",
   "execution_count": 6,
   "metadata": {},
   "outputs": [
    {
     "ename": "NameError",
     "evalue": "name 'cross_val_score' is not defined",
     "output_type": "error",
     "traceback": [
      "\u001b[0;31m---------------------------------------------------------------------------\u001b[0m",
      "\u001b[0;31mNameError\u001b[0m                                 Traceback (most recent call last)",
      "\u001b[0;32m<ipython-input-6-dfe3c7c71a09>\u001b[0m in \u001b[0;36m<module>\u001b[0;34m()\u001b[0m\n\u001b[1;32m      6\u001b[0m \u001b[0mgnb\u001b[0m \u001b[0;34m=\u001b[0m \u001b[0mgnb\u001b[0m\u001b[0;34m.\u001b[0m\u001b[0mfit\u001b[0m\u001b[0;34m(\u001b[0m\u001b[0miris\u001b[0m\u001b[0;34m.\u001b[0m\u001b[0mdata\u001b[0m\u001b[0;34m,\u001b[0m \u001b[0miris\u001b[0m\u001b[0;34m.\u001b[0m\u001b[0mtarget\u001b[0m\u001b[0;34m)\u001b[0m\u001b[0;34m\u001b[0m\u001b[0m\n\u001b[1;32m      7\u001b[0m \u001b[0;34m\u001b[0m\u001b[0m\n\u001b[0;32m----> 8\u001b[0;31m \u001b[0mscores\u001b[0m \u001b[0;34m=\u001b[0m \u001b[0mcross_val_score\u001b[0m\u001b[0;34m(\u001b[0m\u001b[0mgnb\u001b[0m\u001b[0;34m,\u001b[0m \u001b[0miris\u001b[0m\u001b[0;34m.\u001b[0m\u001b[0mdata\u001b[0m\u001b[0;34m,\u001b[0m \u001b[0miris\u001b[0m\u001b[0;34m.\u001b[0m\u001b[0mtarget\u001b[0m\u001b[0;34m,\u001b[0m \u001b[0mcv\u001b[0m\u001b[0;34m=\u001b[0m\u001b[0;36m10\u001b[0m\u001b[0;34m)\u001b[0m\u001b[0;34m\u001b[0m\u001b[0m\n\u001b[0m\u001b[1;32m      9\u001b[0m \u001b[0;32mprint\u001b[0m \u001b[0mscores\u001b[0m\u001b[0;34m\u001b[0m\u001b[0m\n",
      "\u001b[0;31mNameError\u001b[0m: name 'cross_val_score' is not defined"
     ]
    }
   ],
   "source": [
    "# [PART D.1]\n",
    "# Melakukan Pembelajaran Naive Bayes\n",
    "# Skema : skema 10-fold cross validation\n",
    "\n",
    "gnb = GaussianNB()\n",
    "gnb = gnb.fit(iris.data, iris.target)\n",
    "\n",
    "scores = cross_val_score(gnb, iris.data, iris.target, cv=10)\n",
    "print scores"
   ]
  },
  {
   "cell_type": "code",
   "execution_count": 7,
   "metadata": {},
   "outputs": [
    {
     "name": "stdout",
     "output_type": "stream",
     "text": [
      "[ 1.          0.93333333  1.          0.93333333  0.93333333  0.86666667\n",
      "  0.93333333  0.93333333  1.          1.        ]\n"
     ]
    }
   ],
   "source": [
    "# [PART D.1]\n",
    "# Melakukan Pembelajaran DecisionTree ID3\n",
    "# Dataset : iris\n",
    "# Skema : skema 10-fold cross validation\n",
    "\n",
    "from sklearn.model_selection import cross_val_score\n",
    "\n",
    "tree_clf = tree.DecisionTreeClassifier()\n",
    "tree_clf = tree_clf.fit(iris.data, iris.target)\n",
    "scores = cross_val_score(tree_clf, iris.data, iris.target, cv=10)\n",
    "print scores"
   ]
  },
  {
   "cell_type": "code",
   "execution_count": 11,
   "metadata": {},
   "outputs": [
    {
     "data": {
      "text/plain": [
       "['DTid3_dump.pkl']"
      ]
     },
     "execution_count": 11,
     "metadata": {},
     "output_type": "execute_result"
    }
   ],
   "source": [
    "# [PART E]\n",
    "# Menyimpan (save) model/hipotesis hasil pembelajaran ke sebuah file eksternal\n",
    "\n",
    "from sklearn.externals import joblib\n",
    "\n",
    "# NAIVE BAYES\n",
    "joblib.dump(gnb, 'NB_dump.pkl') \n",
    "\n",
    "# DecisionTree ID3\n",
    "joblib.dump(tree_clf, 'DTid3_dump.pkl') "
   ]
  },
  {
   "cell_type": "code",
   "execution_count": 14,
   "metadata": {},
   "outputs": [
    {
     "name": "stdout",
     "output_type": "stream",
     "text": [
      "GaussianNB(priors=None)\n"
     ]
    }
   ],
   "source": [
    "# [PART F]\n",
    "# Membaca (read) model/hipotesis dari file eksternal\n",
    "\n",
    "# NAIVE BAYES\n",
    "l_gnb = joblib.load('NB_dump.pkl')\n",
    "\n",
    "# DecisionTree ID3\n",
    "l_clf = joblib.load('DTid3_dump.pkl')\n",
    "\n",
    "print l_gnb"
   ]
  },
  {
   "cell_type": "code",
   "execution_count": null,
   "metadata": {
    "collapsed": true
   },
   "outputs": [],
   "source": []
  }
 ],
 "metadata": {
  "kernelspec": {
   "display_name": "Python 2",
   "language": "python",
   "name": "python2"
  },
  "language_info": {
   "codemirror_mode": {
    "name": "ipython",
    "version": 2
   },
   "file_extension": ".py",
   "mimetype": "text/x-python",
   "name": "python",
   "nbconvert_exporter": "python",
   "pygments_lexer": "ipython2",
   "version": "2.7.14"
  }
 },
 "nbformat": 4,
 "nbformat_minor": 2
}
